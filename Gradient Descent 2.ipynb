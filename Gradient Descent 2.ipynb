{
 "cells": [
  {
   "cell_type": "code",
   "execution_count": 14,
   "id": "499f21b4",
   "metadata": {},
   "outputs": [],
   "source": [
    "import numpy as np"
   ]
  },
  {
   "cell_type": "code",
   "execution_count": 15,
   "id": "a2468739",
   "metadata": {},
   "outputs": [],
   "source": [
    "training_data=np.genfromtxt('Combined Cycle Power Plant Training Data',delimiter=\",\")\n",
    "testing_data=np.genfromtxt('Combined Cycle Power Plant Testing Data',delimiter=\",\")"
   ]
  },
  {
   "cell_type": "code",
   "execution_count": 16,
   "id": "ceff8137",
   "metadata": {},
   "outputs": [
    {
     "data": {
      "text/plain": [
       "5"
      ]
     },
     "execution_count": 16,
     "metadata": {},
     "output_type": "execute_result"
    }
   ],
   "source": [
    "training_data.shape[1]"
   ]
  },
  {
   "cell_type": "code",
   "execution_count": 17,
   "id": "aee69937",
   "metadata": {},
   "outputs": [],
   "source": [
    "def step_gradient(points,learning_rate,M):\n",
    "    N=points.shape[0]\n",
    "    cols=points.shape[1]\n",
    "    M_slope = np.zeros(cols)\n",
    "    for i in range(N):\n",
    "        x = points[i, 0:cols-1]\n",
    "        x = np.append(x, 1)\n",
    "        y = points[i,cols-1]\n",
    "        for j in range(cols):\n",
    "            M_slope[j]+=((-2/N)*(y-sum(M*x))*x[j])\n",
    "        new_m= M - (learning_rate * M_slope)\n",
    "    return new_m "
   ]
  },
  {
   "cell_type": "code",
   "execution_count": 18,
   "id": "4af4aa1d",
   "metadata": {},
   "outputs": [],
   "source": [
    "def cost_function(points, M):\n",
    "    total_cost=0\n",
    "    N=points.shape[0]\n",
    "    num_col = points.shape[1]\n",
    "    for i in range(N):\n",
    "        x = points[i, 0:num_col-1]\n",
    "        x = np.append(x, 1)\n",
    "        y = points[i,num_col-1]\n",
    "        total_cost+=(y - (M * x).sum()) ** 2\n",
    "    total_cost = (1/N) * total_cost\n",
    "    return total_cost"
   ]
  },
  {
   "cell_type": "code",
   "execution_count": 19,
   "id": "09d9ebcd",
   "metadata": {},
   "outputs": [],
   "source": [
    "def gd(points,learning_rate,iterations):\n",
    "    cols=points.shape[1]\n",
    "    M=np.zeros(cols)\n",
    "    for i in range(iterations):\n",
    "        M=step_gradient(points,learning_rate,M)\n",
    "        print(\"Iterations:\",i,\"Cost Function:\",cost_function(points,M))\n",
    "    return M"
   ]
  },
  {
   "cell_type": "code",
   "execution_count": 20,
   "id": "9c1733da",
   "metadata": {},
   "outputs": [],
   "source": [
    "def run():\n",
    "    learning_rate=.0000001\n",
    "    iterations=100\n",
    "    m=gd(training_data,learning_rate,iterations)\n",
    "    return m[0:4],m[4]"
   ]
  },
  {
   "cell_type": "code",
   "execution_count": 21,
   "id": "f4473069",
   "metadata": {},
   "outputs": [
    {
     "name": "stdout",
     "output_type": "stream",
     "text": [
      "Iterations: 0 Cost Function: 130113.76218593332\n",
      "Iterations: 1 Cost Function: 81899.50056090437\n",
      "Iterations: 2 Cost Function: 51586.705141741855\n",
      "Iterations: 3 Cost Function: 32528.740228401664\n",
      "Iterations: 4 Cost Function: 20546.79960623363\n",
      "Iterations: 5 Cost Function: 13013.626093159965\n",
      "Iterations: 6 Cost Function: 8277.436872216764\n",
      "Iterations: 7 Cost Function: 5299.739597459209\n",
      "Iterations: 8 Cost Function: 3427.623764243273\n",
      "Iterations: 9 Cost Function: 2250.5980206208783\n",
      "Iterations: 10 Cost Function: 1510.5823558928498\n",
      "Iterations: 11 Cost Function: 1045.3192910491614\n",
      "Iterations: 12 Cost Function: 752.7959293010408\n",
      "Iterations: 13 Cost Function: 568.8757440937269\n",
      "Iterations: 14 Cost Function: 453.23546093932646\n",
      "Iterations: 15 Cost Function: 380.5234346401876\n",
      "Iterations: 16 Cost Function: 334.800832787696\n",
      "Iterations: 17 Cost Function: 306.04675233708264\n",
      "Iterations: 18 Cost Function: 287.960951510363\n",
      "Iterations: 19 Cost Function: 276.5824054094679\n",
      "Iterations: 20 Cost Function: 269.4207781399647\n",
      "Iterations: 21 Cost Function: 264.9103706651568\n",
      "Iterations: 22 Cost Function: 262.066812370992\n",
      "Iterations: 23 Cost Function: 260.2712196258446\n",
      "Iterations: 24 Cost Function: 259.13449411241504\n",
      "Iterations: 25 Cost Function: 258.41200583435096\n",
      "Iterations: 26 Cost Function: 257.94995347083403\n",
      "Iterations: 27 Cost Function: 257.6516405960551\n",
      "Iterations: 28 Cost Function: 257.4562732017418\n",
      "Iterations: 29 Cost Function: 257.3256294879201\n",
      "Iterations: 30 Cost Function: 257.2356790273154\n",
      "Iterations: 31 Cost Function: 257.17131365031736\n",
      "Iterations: 32 Cost Function: 257.1230346997811\n",
      "Iterations: 33 Cost Function: 257.08487027505373\n",
      "Iterations: 34 Cost Function: 257.05306578248087\n",
      "Iterations: 35 Cost Function: 257.02526067146454\n",
      "Iterations: 36 Cost Function: 256.9999708401882\n",
      "Iterations: 37 Cost Function: 256.9762632189265\n",
      "Iterations: 38 Cost Function: 256.9535511773439\n",
      "Iterations: 39 Cost Function: 256.9314658949946\n",
      "Iterations: 40 Cost Function: 256.90977549069316\n",
      "Iterations: 41 Cost Function: 256.88833417833365\n",
      "Iterations: 42 Cost Function: 256.86705030063825\n",
      "Iterations: 43 Cost Function: 256.8458662316747\n",
      "Iterations: 44 Cost Function: 256.82474574134955\n",
      "Iterations: 45 Cost Function: 256.8036660513495\n",
      "Iterations: 46 Cost Function: 256.7826128406288\n",
      "Iterations: 47 Cost Function: 256.76157710531214\n",
      "Iterations: 48 Cost Function: 256.7405531844838\n",
      "Iterations: 49 Cost Function: 256.71953751897195\n",
      "Iterations: 50 Cost Function: 256.698527871003\n",
      "Iterations: 51 Cost Function: 256.67752283356987\n",
      "Iterations: 52 Cost Function: 256.6565215219837\n",
      "Iterations: 53 Cost Function: 256.63552337994145\n",
      "Iterations: 54 Cost Function: 256.61452805759495\n",
      "Iterations: 55 Cost Function: 256.59353533489997\n",
      "Iterations: 56 Cost Function: 256.5725450734213\n",
      "Iterations: 57 Cost Function: 256.55155718603\n",
      "Iterations: 58 Cost Function: 256.5305716178584\n",
      "Iterations: 59 Cost Function: 256.50958833431423\n",
      "Iterations: 60 Cost Function: 256.48860731356064\n",
      "Iterations: 61 Cost Function: 256.4676285417762\n",
      "Iterations: 62 Cost Function: 256.44665201017835\n",
      "Iterations: 63 Cost Function: 256.425677713154\n",
      "Iterations: 64 Cost Function: 256.40470564708284\n",
      "Iterations: 65 Cost Function: 256.3837358095967\n",
      "Iterations: 66 Cost Function: 256.3627681991148\n",
      "Iterations: 67 Cost Function: 256.3418028145504\n",
      "Iterations: 68 Cost Function: 256.3208396551284\n",
      "Iterations: 69 Cost Function: 256.2998787202728\n",
      "Iterations: 70 Cost Function: 256.27892000952704\n",
      "Iterations: 71 Cost Function: 256.25796352251143\n",
      "Iterations: 72 Cost Function: 256.2370092589001\n",
      "Iterations: 73 Cost Function: 256.21605721839205\n",
      "Iterations: 74 Cost Function: 256.19510740070365\n",
      "Iterations: 75 Cost Function: 256.17415980557325\n",
      "Iterations: 76 Cost Function: 256.1532144327397\n",
      "Iterations: 77 Cost Function: 256.1322712819451\n",
      "Iterations: 78 Cost Function: 256.1113303529393\n",
      "Iterations: 79 Cost Function: 256.0903916454731\n",
      "Iterations: 80 Cost Function: 256.0694551592958\n",
      "Iterations: 81 Cost Function: 256.04852089415976\n",
      "Iterations: 82 Cost Function: 256.027588849818\n",
      "Iterations: 83 Cost Function: 256.00665902602367\n",
      "Iterations: 84 Cost Function: 255.98573142252673\n",
      "Iterations: 85 Cost Function: 255.9648060390832\n",
      "Iterations: 86 Cost Function: 255.94388287544342\n",
      "Iterations: 87 Cost Function: 255.9229619313638\n",
      "Iterations: 88 Cost Function: 255.90204320659566\n",
      "Iterations: 89 Cost Function: 255.8811267008911\n",
      "Iterations: 90 Cost Function: 255.86021241400786\n",
      "Iterations: 91 Cost Function: 255.83930034569545\n",
      "Iterations: 92 Cost Function: 255.81839049570632\n",
      "Iterations: 93 Cost Function: 255.7974828637976\n",
      "Iterations: 94 Cost Function: 255.77657744972035\n",
      "Iterations: 95 Cost Function: 255.7556742532275\n",
      "Iterations: 96 Cost Function: 255.73477327407474\n",
      "Iterations: 97 Cost Function: 255.7138745120145\n",
      "Iterations: 98 Cost Function: 255.69297796679993\n",
      "Iterations: 99 Cost Function: 255.6720836381857\n",
      "[0.00636192 0.02021979 0.4448554  0.03390748] 0.0004382703345986591\n"
     ]
    }
   ],
   "source": [
    "m,c=run()\n",
    "print(m,c)"
   ]
  },
  {
   "cell_type": "code",
   "execution_count": 22,
   "id": "41ecd5b7",
   "metadata": {},
   "outputs": [],
   "source": [
    "from sklearn.ensemble import GradientBoostingRegressor\n",
    "x = training_data[:, :-1]\n",
    "y = training_data[:, -1]\n",
    "reg = GradientBoostingRegressor()\n",
    "reg.fit(x,y)\n",
    "y_predict = reg.predict(testing_data)\n",
    "np.savetxt(\"predict.csv\", y_predict, delimiter=',')"
   ]
  }
 ],
 "metadata": {
  "kernelspec": {
   "display_name": "Python 3",
   "language": "python",
   "name": "python3"
  },
  "language_info": {
   "codemirror_mode": {
    "name": "ipython",
    "version": 3
   },
   "file_extension": ".py",
   "mimetype": "text/x-python",
   "name": "python",
   "nbconvert_exporter": "python",
   "pygments_lexer": "ipython3",
   "version": "3.8.8"
  }
 },
 "nbformat": 4,
 "nbformat_minor": 5
}
